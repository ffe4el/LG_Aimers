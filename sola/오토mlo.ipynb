{
 "cells": [
  {
   "cell_type": "code",
   "execution_count": 4,
   "outputs": [
    {
     "name": "stdout",
     "output_type": "stream",
     "text": [
      "Collecting pycaret\r\n",
      "  Downloading pycaret-3.0.0rc9-py3-none-any.whl (480 kB)\r\n",
      "\u001B[2K     \u001B[90m━━━━━━━━━━━━━━━━━━━━━━━━━━━━━━━━━━━━━━━\u001B[0m \u001B[32m480.1/480.1 kB\u001B[0m \u001B[31m9.8 MB/s\u001B[0m eta \u001B[36m0:00:00\u001B[0ma \u001B[36m0:00:01\u001B[0m\r\n",
      "\u001B[?25hCollecting deprecation>=2.1.0\r\n",
      "  Downloading deprecation-2.1.0-py2.py3-none-any.whl (11 kB)\r\n",
      "Requirement already satisfied: scikit-learn>=1.0 in /Users/sola/opt/anaconda3/lib/python3.9/site-packages (from pycaret) (1.0.2)\r\n",
      "Collecting pmdarima!=1.8.1,<3.0.0,>=1.8.0\r\n",
      "  Downloading pmdarima-2.0.2-cp39-cp39-macosx_10_9_x86_64.whl (608 kB)\r\n",
      "\u001B[2K     \u001B[90m━━━━━━━━━━━━━━━━━━━━━━━━━━━━━━━━━━━━━━\u001B[0m \u001B[32m608.3/608.3 kB\u001B[0m \u001B[31m26.3 MB/s\u001B[0m eta \u001B[36m0:00:00\u001B[0m\r\n",
      "\u001B[?25hCollecting xxhash\r\n",
      "  Downloading xxhash-3.2.0-cp39-cp39-macosx_10_9_x86_64.whl (35 kB)\r\n",
      "Collecting schemdraw>=0.14\r\n",
      "  Downloading schemdraw-0.15-py3-none-any.whl (106 kB)\r\n",
      "\u001B[2K     \u001B[90m━━━━━━━━━━━━━━━━━━━━━━━━━━━━━━━━━━━━━━\u001B[0m \u001B[32m106.8/106.8 kB\u001B[0m \u001B[31m15.9 MB/s\u001B[0m eta \u001B[36m0:00:00\u001B[0m\r\n",
      "\u001B[?25hCollecting category-encoders>=2.4.0\r\n",
      "  Downloading category_encoders-2.6.0-py2.py3-none-any.whl (81 kB)\r\n",
      "\u001B[2K     \u001B[90m━━━━━━━━━━━━━━━━━━━━━━━━━━━━━━━━━━━━━━━━\u001B[0m \u001B[32m81.2/81.2 kB\u001B[0m \u001B[31m11.7 MB/s\u001B[0m eta \u001B[36m0:00:00\u001B[0m\r\n",
      "\u001B[?25hRequirement already satisfied: psutil>=5.9.0 in /Users/sola/opt/anaconda3/lib/python3.9/site-packages (from pycaret) (5.9.0)\r\n",
      "Collecting joblib>=1.2.0\r\n",
      "  Downloading joblib-1.2.0-py3-none-any.whl (297 kB)\r\n",
      "\u001B[2K     \u001B[90m━━━━━━━━━━━━━━━━━━━━━━━━━━━━━━━━━━━━━━\u001B[0m \u001B[32m298.0/298.0 kB\u001B[0m \u001B[31m23.7 MB/s\u001B[0m eta \u001B[36m0:00:00\u001B[0m\r\n",
      "\u001B[?25hRequirement already satisfied: plotly>=5.0.0 in /Users/sola/opt/anaconda3/lib/python3.9/site-packages (from pycaret) (5.9.0)\r\n",
      "Requirement already satisfied: scipy<2.0.0 in /Users/sola/opt/anaconda3/lib/python3.9/site-packages (from pycaret) (1.9.1)\r\n",
      "Collecting scikit-plot>=0.3.7\r\n",
      "  Downloading scikit_plot-0.3.7-py3-none-any.whl (33 kB)\r\n",
      "Collecting plotly-resampler>=0.7.2.2\r\n",
      "  Downloading plotly_resampler-0.8.4rc1.tar.gz (45 kB)\r\n",
      "\u001B[2K     \u001B[90m━━━━━━━━━━━━━━━━━━━━━━━━━━━━━━━━━━━━━━━━\u001B[0m \u001B[32m45.8/45.8 kB\u001B[0m \u001B[31m6.0 MB/s\u001B[0m eta \u001B[36m0:00:00\u001B[0m\r\n",
      "\u001B[?25h  Installing build dependencies ... \u001B[?25ldone\r\n",
      "\u001B[?25h  Getting requirements to build wheel ... \u001B[?25ldone\r\n",
      "\u001B[?25h  Preparing metadata (pyproject.toml) ... \u001B[?25ldone\r\n",
      "\u001B[33m  WARNING: Requested plotly-resampler>=0.7.2.2 from https://files.pythonhosted.org/packages/d7/5e/71a9e34a36c1855d0c4e30a88405d58c4bbbe7ece802b188628a643f2cda/plotly_resampler-0.8.4rc1.tar.gz (from pycaret), but installing version 0.8.4rc1\u001B[0m\u001B[33m\r\n",
      "\u001B[0m\u001B[?25hRequirement already satisfied: pandas<1.6.0,>=1.3.0 in /Users/sola/opt/anaconda3/lib/python3.9/site-packages (from pycaret) (1.4.4)\r\n",
      "Requirement already satisfied: tqdm>=4.62.0 in /Users/sola/opt/anaconda3/lib/python3.9/site-packages (from pycaret) (4.64.1)\r\n",
      "Requirement already satisfied: matplotlib>=3.3.0 in /Users/sola/opt/anaconda3/lib/python3.9/site-packages (from pycaret) (3.5.2)\r\n",
      "Collecting imbalanced-learn>=0.8.1\r\n",
      "  Downloading imbalanced_learn-0.10.1-py3-none-any.whl (226 kB)\r\n",
      "\u001B[2K     \u001B[90m━━━━━━━━━━━━━━━━━━━━━━━━━━━━━━━━━━━━━━\u001B[0m \u001B[32m226.0/226.0 kB\u001B[0m \u001B[31m14.8 MB/s\u001B[0m eta \u001B[36m0:00:00\u001B[0m\r\n",
      "\u001B[?25hRequirement already satisfied: lightgbm>=3.0.0 in /Users/sola/opt/anaconda3/lib/python3.9/site-packages (from pycaret) (3.2.1)\r\n",
      "Collecting importlib-metadata>=4.12.0\r\n",
      "  Downloading importlib_metadata-6.0.0-py3-none-any.whl (21 kB)\r\n",
      "Requirement already satisfied: statsmodels>=0.12.1 in /Users/sola/opt/anaconda3/lib/python3.9/site-packages (from pycaret) (0.13.2)\r\n",
      "Requirement already satisfied: requests>=2.27.1 in /Users/sola/opt/anaconda3/lib/python3.9/site-packages (from pycaret) (2.28.1)\r\n",
      "Requirement already satisfied: jinja2>=1.2 in /Users/sola/opt/anaconda3/lib/python3.9/site-packages (from pycaret) (2.11.3)\r\n",
      "Requirement already satisfied: cloudpickle in /Users/sola/opt/anaconda3/lib/python3.9/site-packages (from pycaret) (2.0.0)\r\n",
      "Requirement already satisfied: nbformat>=4.2.0 in /Users/sola/opt/anaconda3/lib/python3.9/site-packages (from pycaret) (5.5.0)\r\n",
      "Collecting pyod>=0.9.8\r\n",
      "  Downloading pyod-1.0.7.tar.gz (147 kB)\r\n",
      "\u001B[2K     \u001B[90m━━━━━━━━━━━━━━━━━━━━━━━━━━━━━━━━━━━━━━\u001B[0m \u001B[32m147.7/147.7 kB\u001B[0m \u001B[31m15.8 MB/s\u001B[0m eta \u001B[36m0:00:00\u001B[0m\r\n",
      "\u001B[?25h  Preparing metadata (setup.py) ... \u001B[?25ldone\r\n",
      "\u001B[?25hRequirement already satisfied: markupsafe>=2.0.1 in /Users/sola/opt/anaconda3/lib/python3.9/site-packages (from pycaret) (2.0.1)\r\n",
      "Requirement already satisfied: ipython>=5.5.0 in /Users/sola/opt/anaconda3/lib/python3.9/site-packages (from pycaret) (7.31.1)\r\n",
      "Collecting sktime>=0.15.0\r\n",
      "  Downloading sktime-0.16.0-py3-none-any.whl (16.0 MB)\r\n",
      "\u001B[2K     \u001B[90m━━━━━━━━━━━━━━━━━━━━━━━━━━━━━━━━━━━━━━━━\u001B[0m \u001B[32m16.0/16.0 MB\u001B[0m \u001B[31m29.4 MB/s\u001B[0m eta \u001B[36m0:00:00\u001B[0m00:01\u001B[0m00:01\u001B[0m\r\n",
      "\u001B[?25hRequirement already satisfied: ipywidgets>=7.6.5 in /Users/sola/opt/anaconda3/lib/python3.9/site-packages (from pycaret) (7.6.5)\r\n",
      "Requirement already satisfied: numpy<1.25,>=1.21 in /Users/sola/opt/anaconda3/lib/python3.9/site-packages (from pycaret) (1.21.5)\r\n",
      "Collecting yellowbrick>=1.4\r\n",
      "  Downloading yellowbrick-1.5-py3-none-any.whl (282 kB)\r\n",
      "\u001B[2K     \u001B[90m━━━━━━━━━━━━━━━━━━━━━━━━━━━━━━━━━━━━━━\u001B[0m \u001B[32m282.6/282.6 kB\u001B[0m \u001B[31m17.6 MB/s\u001B[0m eta \u001B[36m0:00:00\u001B[0m\r\n",
      "\u001B[?25hCollecting tbats>=1.1.0\r\n",
      "  Downloading tbats-1.1.2-py3-none-any.whl (43 kB)\r\n",
      "\u001B[2K     \u001B[90m━━━━━━━━━━━━━━━━━━━━━━━━━━━━━━━━━━━━━━━━\u001B[0m \u001B[32m43.8/43.8 kB\u001B[0m \u001B[31m5.8 MB/s\u001B[0m eta \u001B[36m0:00:00\u001B[0m\r\n",
      "\u001B[?25hCollecting kaleido>=0.2.1\r\n",
      "  Downloading kaleido-0.2.1-py2.py3-none-macosx_10_11_x86_64.whl (85.2 MB)\r\n",
      "\u001B[2K     \u001B[90m━━━━━━━━━━━━━━━━━━━━━━━━━━━━━━━━━━━━━━━━\u001B[0m \u001B[32m85.2/85.2 MB\u001B[0m \u001B[31m23.7 MB/s\u001B[0m eta \u001B[36m0:00:00\u001B[0m00:01\u001B[0m00:01\u001B[0m\r\n",
      "\u001B[?25hRequirement already satisfied: numba>=0.55.0 in /Users/sola/opt/anaconda3/lib/python3.9/site-packages (from pycaret) (0.55.1)\r\n",
      "Requirement already satisfied: patsy>=0.5.1 in /Users/sola/opt/anaconda3/lib/python3.9/site-packages (from category-encoders>=2.4.0->pycaret) (0.5.2)\r\n",
      "Requirement already satisfied: packaging in /Users/sola/opt/anaconda3/lib/python3.9/site-packages (from deprecation>=2.1.0->pycaret) (21.3)\r\n",
      "Requirement already satisfied: threadpoolctl>=2.0.0 in /Users/sola/opt/anaconda3/lib/python3.9/site-packages (from imbalanced-learn>=0.8.1->pycaret) (2.2.0)\r\n",
      "Requirement already satisfied: zipp>=0.5 in /Users/sola/opt/anaconda3/lib/python3.9/site-packages (from importlib-metadata>=4.12.0->pycaret) (3.8.0)\r\n",
      "Requirement already satisfied: decorator in /Users/sola/opt/anaconda3/lib/python3.9/site-packages (from ipython>=5.5.0->pycaret) (5.1.1)\r\n",
      "Requirement already satisfied: prompt-toolkit!=3.0.0,!=3.0.1,<3.1.0,>=2.0.0 in /Users/sola/opt/anaconda3/lib/python3.9/site-packages (from ipython>=5.5.0->pycaret) (3.0.20)\r\n",
      "Requirement already satisfied: pickleshare in /Users/sola/opt/anaconda3/lib/python3.9/site-packages (from ipython>=5.5.0->pycaret) (0.7.5)\r\n",
      "Requirement already satisfied: backcall in /Users/sola/opt/anaconda3/lib/python3.9/site-packages (from ipython>=5.5.0->pycaret) (0.2.0)\r\n",
      "Requirement already satisfied: setuptools>=18.5 in /Users/sola/opt/anaconda3/lib/python3.9/site-packages (from ipython>=5.5.0->pycaret) (63.4.1)\r\n",
      "Requirement already satisfied: pexpect>4.3 in /Users/sola/opt/anaconda3/lib/python3.9/site-packages (from ipython>=5.5.0->pycaret) (4.8.0)\r\n",
      "Requirement already satisfied: jedi>=0.16 in /Users/sola/opt/anaconda3/lib/python3.9/site-packages (from ipython>=5.5.0->pycaret) (0.18.1)\r\n",
      "Requirement already satisfied: traitlets>=4.2 in /Users/sola/opt/anaconda3/lib/python3.9/site-packages (from ipython>=5.5.0->pycaret) (5.1.1)\r\n",
      "Requirement already satisfied: appnope in /Users/sola/opt/anaconda3/lib/python3.9/site-packages (from ipython>=5.5.0->pycaret) (0.1.2)\r\n",
      "Requirement already satisfied: pygments in /Users/sola/opt/anaconda3/lib/python3.9/site-packages (from ipython>=5.5.0->pycaret) (2.11.2)\r\n",
      "Requirement already satisfied: matplotlib-inline in /Users/sola/opt/anaconda3/lib/python3.9/site-packages (from ipython>=5.5.0->pycaret) (0.1.6)\r\n",
      "Requirement already satisfied: widgetsnbextension~=3.5.0 in /Users/sola/opt/anaconda3/lib/python3.9/site-packages (from ipywidgets>=7.6.5->pycaret) (3.5.2)\r\n",
      "Requirement already satisfied: ipykernel>=4.5.1 in /Users/sola/opt/anaconda3/lib/python3.9/site-packages (from ipywidgets>=7.6.5->pycaret) (6.15.2)\r\n",
      "Requirement already satisfied: jupyterlab-widgets>=1.0.0 in /Users/sola/opt/anaconda3/lib/python3.9/site-packages (from ipywidgets>=7.6.5->pycaret) (1.0.0)\r\n",
      "Requirement already satisfied: ipython-genutils~=0.2.0 in /Users/sola/opt/anaconda3/lib/python3.9/site-packages (from ipywidgets>=7.6.5->pycaret) (0.2.0)\r\n",
      "Requirement already satisfied: wheel in /Users/sola/opt/anaconda3/lib/python3.9/site-packages (from lightgbm>=3.0.0->pycaret) (0.37.1)\r\n",
      "Requirement already satisfied: pyparsing>=2.2.1 in /Users/sola/opt/anaconda3/lib/python3.9/site-packages (from matplotlib>=3.3.0->pycaret) (3.0.9)\r\n",
      "Requirement already satisfied: kiwisolver>=1.0.1 in /Users/sola/opt/anaconda3/lib/python3.9/site-packages (from matplotlib>=3.3.0->pycaret) (1.4.2)\r\n",
      "Requirement already satisfied: python-dateutil>=2.7 in /Users/sola/opt/anaconda3/lib/python3.9/site-packages (from matplotlib>=3.3.0->pycaret) (2.8.2)\r\n",
      "Requirement already satisfied: fonttools>=4.22.0 in /Users/sola/opt/anaconda3/lib/python3.9/site-packages (from matplotlib>=3.3.0->pycaret) (4.25.0)\r\n",
      "Requirement already satisfied: pillow>=6.2.0 in /Users/sola/opt/anaconda3/lib/python3.9/site-packages (from matplotlib>=3.3.0->pycaret) (9.2.0)\r\n",
      "Requirement already satisfied: cycler>=0.10 in /Users/sola/opt/anaconda3/lib/python3.9/site-packages (from matplotlib>=3.3.0->pycaret) (0.11.0)\r\n",
      "Requirement already satisfied: jsonschema>=2.6 in /Users/sola/opt/anaconda3/lib/python3.9/site-packages (from nbformat>=4.2.0->pycaret) (4.16.0)\r\n",
      "Requirement already satisfied: fastjsonschema in /Users/sola/opt/anaconda3/lib/python3.9/site-packages (from nbformat>=4.2.0->pycaret) (2.16.2)\r\n",
      "Requirement already satisfied: jupyter_core in /Users/sola/opt/anaconda3/lib/python3.9/site-packages (from nbformat>=4.2.0->pycaret) (4.11.1)\r\n",
      "Requirement already satisfied: llvmlite<0.39,>=0.38.0rc1 in /Users/sola/opt/anaconda3/lib/python3.9/site-packages (from numba>=0.55.0->pycaret) (0.38.0)\r\n",
      "Requirement already satisfied: pytz>=2020.1 in /Users/sola/opt/anaconda3/lib/python3.9/site-packages (from pandas<1.6.0,>=1.3.0->pycaret) (2022.1)\r\n",
      "Requirement already satisfied: tenacity>=6.2.0 in /Users/sola/opt/anaconda3/lib/python3.9/site-packages (from plotly>=5.0.0->pycaret) (8.0.1)\r\n",
      "Collecting jupyter-dash>=0.4.2\r\n",
      "  Downloading jupyter_dash-0.4.2-py3-none-any.whl (23 kB)\r\n",
      "Collecting dash<3.0.0,>=2.2.0\r\n",
      "  Downloading dash-2.8.1-py3-none-any.whl (9.9 MB)\r\n",
      "\u001B[2K     \u001B[90m━━━━━━━━━━━━━━━━━━━━━━━━━━━━━━━━━━━━━━━━\u001B[0m \u001B[32m9.9/9.9 MB\u001B[0m \u001B[31m16.3 MB/s\u001B[0m eta \u001B[36m0:00:00\u001B[0ma \u001B[36m0:00:01\u001B[0m\r\n",
      "\u001B[?25hCollecting orjson<4.0.0,>=3.8.0\r\n",
      "  Downloading orjson-3.8.6-cp39-cp39-macosx_10_9_x86_64.macosx_11_0_arm64.macosx_10_9_universal2.whl (489 kB)\r\n",
      "\u001B[2K     \u001B[90m━━━━━━━━━━━━━━━━━━━━━━━━━━━━━━━━━━━━━━\u001B[0m \u001B[32m489.3/489.3 kB\u001B[0m \u001B[31m27.7 MB/s\u001B[0m eta \u001B[36m0:00:00\u001B[0m\r\n",
      "\u001B[?25hRequirement already satisfied: Werkzeug<=2.1.2 in /Users/sola/opt/anaconda3/lib/python3.9/site-packages (from plotly-resampler>=0.7.2.2->pycaret) (2.0.3)\r\n",
      "Collecting Flask-Cors<4.0.0,>=3.0.10\r\n",
      "  Downloading Flask_Cors-3.0.10-py2.py3-none-any.whl (14 kB)\r\n",
      "Collecting trace-updater>=0.0.8\r\n",
      "  Downloading trace_updater-0.0.9-py3-none-any.whl (185 kB)\r\n",
      "\u001B[2K     \u001B[90m━━━━━━━━━━━━━━━━━━━━━━━━━━━━━━━━━━━━━━\u001B[0m \u001B[32m185.1/185.1 kB\u001B[0m \u001B[31m18.7 MB/s\u001B[0m eta \u001B[36m0:00:00\u001B[0m\r\n",
      "\u001B[?25hRequirement already satisfied: Cython!=0.29.18,!=0.29.31,>=0.29 in /Users/sola/opt/anaconda3/lib/python3.9/site-packages (from pmdarima!=1.8.1,<3.0.0,>=1.8.0->pycaret) (0.29.32)\r\n",
      "Requirement already satisfied: urllib3 in /Users/sola/opt/anaconda3/lib/python3.9/site-packages (from pmdarima!=1.8.1,<3.0.0,>=1.8.0->pycaret) (1.26.11)\r\n",
      "Requirement already satisfied: six in /Users/sola/opt/anaconda3/lib/python3.9/site-packages (from pyod>=0.9.8->pycaret) (1.16.0)\r\n",
      "Requirement already satisfied: certifi>=2017.4.17 in /Users/sola/opt/anaconda3/lib/python3.9/site-packages (from requests>=2.27.1->pycaret) (2022.12.7)\r\n",
      "Requirement already satisfied: charset-normalizer<3,>=2 in /Users/sola/opt/anaconda3/lib/python3.9/site-packages (from requests>=2.27.1->pycaret) (2.0.4)\r\n",
      "Requirement already satisfied: idna<4,>=2.5 in /Users/sola/opt/anaconda3/lib/python3.9/site-packages (from requests>=2.27.1->pycaret) (3.3)\r\n",
      "Collecting deprecated>=1.2.13\r\n",
      "  Downloading Deprecated-1.2.13-py2.py3-none-any.whl (9.6 kB)\r\n",
      "Requirement already satisfied: Flask>=1.0.4 in /Users/sola/opt/anaconda3/lib/python3.9/site-packages (from dash<3.0.0,>=2.2.0->plotly-resampler>=0.7.2.2->pycaret) (1.1.2)\r\n",
      "Collecting dash-html-components==2.0.0\r\n",
      "  Downloading dash_html_components-2.0.0-py3-none-any.whl (4.1 kB)\r\n",
      "Collecting dash-core-components==2.0.0\r\n",
      "  Downloading dash_core_components-2.0.0-py3-none-any.whl (3.8 kB)\r\n",
      "Collecting dash-table==5.0.0\r\n",
      "  Downloading dash_table-5.0.0-py3-none-any.whl (3.9 kB)\r\n",
      "Requirement already satisfied: wrapt<2,>=1.10 in /Users/sola/opt/anaconda3/lib/python3.9/site-packages (from deprecated>=1.2.13->sktime>=0.15.0->pycaret) (1.14.1)\r\n",
      "Requirement already satisfied: jupyter-client>=6.1.12 in /Users/sola/opt/anaconda3/lib/python3.9/site-packages (from ipykernel>=4.5.1->ipywidgets>=7.6.5->pycaret) (7.3.4)\r\n",
      "Requirement already satisfied: pyzmq>=17 in /Users/sola/opt/anaconda3/lib/python3.9/site-packages (from ipykernel>=4.5.1->ipywidgets>=7.6.5->pycaret) (23.2.0)\r\n",
      "Requirement already satisfied: tornado>=6.1 in /Users/sola/opt/anaconda3/lib/python3.9/site-packages (from ipykernel>=4.5.1->ipywidgets>=7.6.5->pycaret) (6.1)\r\n",
      "Requirement already satisfied: nest-asyncio in /Users/sola/opt/anaconda3/lib/python3.9/site-packages (from ipykernel>=4.5.1->ipywidgets>=7.6.5->pycaret) (1.5.5)\r\n",
      "Requirement already satisfied: debugpy>=1.0 in /Users/sola/opt/anaconda3/lib/python3.9/site-packages (from ipykernel>=4.5.1->ipywidgets>=7.6.5->pycaret) (1.5.1)\r\n",
      "Requirement already satisfied: parso<0.9.0,>=0.8.0 in /Users/sola/opt/anaconda3/lib/python3.9/site-packages (from jedi>=0.16->ipython>=5.5.0->pycaret) (0.8.3)\r\n",
      "Requirement already satisfied: attrs>=17.4.0 in /Users/sola/opt/anaconda3/lib/python3.9/site-packages (from jsonschema>=2.6->nbformat>=4.2.0->pycaret) (21.4.0)\r\n",
      "Requirement already satisfied: pyrsistent!=0.17.0,!=0.17.1,!=0.17.2,>=0.14.0 in /Users/sola/opt/anaconda3/lib/python3.9/site-packages (from jsonschema>=2.6->nbformat>=4.2.0->pycaret) (0.18.0)\r\n",
      "Collecting ansi2html\r\n",
      "  Downloading ansi2html-1.9.0rc1-py3-none-any.whl (17 kB)\r\n",
      "Collecting retrying\r\n",
      "  Downloading retrying-1.3.4-py3-none-any.whl (11 kB)\r\n",
      "Requirement already satisfied: ptyprocess>=0.5 in /Users/sola/opt/anaconda3/lib/python3.9/site-packages (from pexpect>4.3->ipython>=5.5.0->pycaret) (0.7.0)\r\n",
      "Requirement already satisfied: wcwidth in /Users/sola/opt/anaconda3/lib/python3.9/site-packages (from prompt-toolkit!=3.0.0,!=3.0.1,<3.1.0,>=2.0.0->ipython>=5.5.0->pycaret) (0.2.5)\r\n",
      "Requirement already satisfied: notebook>=4.4.1 in /Users/sola/opt/anaconda3/lib/python3.9/site-packages (from widgetsnbextension~=3.5.0->ipywidgets>=7.6.5->pycaret) (6.4.12)\r\n",
      "Requirement already satisfied: itsdangerous>=0.24 in /Users/sola/opt/anaconda3/lib/python3.9/site-packages (from Flask>=1.0.4->dash<3.0.0,>=2.2.0->plotly-resampler>=0.7.2.2->pycaret) (2.0.1)\r\n",
      "Requirement already satisfied: click>=5.1 in /Users/sola/opt/anaconda3/lib/python3.9/site-packages (from Flask>=1.0.4->dash<3.0.0,>=2.2.0->plotly-resampler>=0.7.2.2->pycaret) (8.0.4)\r\n",
      "Requirement already satisfied: entrypoints in /Users/sola/opt/anaconda3/lib/python3.9/site-packages (from jupyter-client>=6.1.12->ipykernel>=4.5.1->ipywidgets>=7.6.5->pycaret) (0.4)\r\n",
      "Requirement already satisfied: nbconvert>=5 in /Users/sola/opt/anaconda3/lib/python3.9/site-packages (from notebook>=4.4.1->widgetsnbextension~=3.5.0->ipywidgets>=7.6.5->pycaret) (6.4.4)\r\n",
      "Requirement already satisfied: prometheus-client in /Users/sola/opt/anaconda3/lib/python3.9/site-packages (from notebook>=4.4.1->widgetsnbextension~=3.5.0->ipywidgets>=7.6.5->pycaret) (0.14.1)\r\n",
      "Requirement already satisfied: argon2-cffi in /Users/sola/opt/anaconda3/lib/python3.9/site-packages (from notebook>=4.4.1->widgetsnbextension~=3.5.0->ipywidgets>=7.6.5->pycaret) (21.3.0)\r\n",
      "Requirement already satisfied: Send2Trash>=1.8.0 in /Users/sola/opt/anaconda3/lib/python3.9/site-packages (from notebook>=4.4.1->widgetsnbextension~=3.5.0->ipywidgets>=7.6.5->pycaret) (1.8.0)\r\n",
      "Requirement already satisfied: terminado>=0.8.3 in /Users/sola/opt/anaconda3/lib/python3.9/site-packages (from notebook>=4.4.1->widgetsnbextension~=3.5.0->ipywidgets>=7.6.5->pycaret) (0.13.1)\r\n",
      "Requirement already satisfied: nbclient<0.6.0,>=0.5.0 in /Users/sola/opt/anaconda3/lib/python3.9/site-packages (from nbconvert>=5->notebook>=4.4.1->widgetsnbextension~=3.5.0->ipywidgets>=7.6.5->pycaret) (0.5.13)\r\n",
      "Requirement already satisfied: jupyterlab-pygments in /Users/sola/opt/anaconda3/lib/python3.9/site-packages (from nbconvert>=5->notebook>=4.4.1->widgetsnbextension~=3.5.0->ipywidgets>=7.6.5->pycaret) (0.1.2)\r\n",
      "Requirement already satisfied: testpath in /Users/sola/opt/anaconda3/lib/python3.9/site-packages (from nbconvert>=5->notebook>=4.4.1->widgetsnbextension~=3.5.0->ipywidgets>=7.6.5->pycaret) (0.6.0)\r\n",
      "Requirement already satisfied: bleach in /Users/sola/opt/anaconda3/lib/python3.9/site-packages (from nbconvert>=5->notebook>=4.4.1->widgetsnbextension~=3.5.0->ipywidgets>=7.6.5->pycaret) (4.1.0)\r\n",
      "Requirement already satisfied: defusedxml in /Users/sola/opt/anaconda3/lib/python3.9/site-packages (from nbconvert>=5->notebook>=4.4.1->widgetsnbextension~=3.5.0->ipywidgets>=7.6.5->pycaret) (0.7.1)\r\n",
      "Requirement already satisfied: pandocfilters>=1.4.1 in /Users/sola/opt/anaconda3/lib/python3.9/site-packages (from nbconvert>=5->notebook>=4.4.1->widgetsnbextension~=3.5.0->ipywidgets>=7.6.5->pycaret) (1.5.0)\r\n",
      "Requirement already satisfied: beautifulsoup4 in /Users/sola/opt/anaconda3/lib/python3.9/site-packages (from nbconvert>=5->notebook>=4.4.1->widgetsnbextension~=3.5.0->ipywidgets>=7.6.5->pycaret) (4.11.1)\r\n",
      "Requirement already satisfied: mistune<2,>=0.8.1 in /Users/sola/opt/anaconda3/lib/python3.9/site-packages (from nbconvert>=5->notebook>=4.4.1->widgetsnbextension~=3.5.0->ipywidgets>=7.6.5->pycaret) (0.8.4)\r\n",
      "Requirement already satisfied: argon2-cffi-bindings in /Users/sola/opt/anaconda3/lib/python3.9/site-packages (from argon2-cffi->notebook>=4.4.1->widgetsnbextension~=3.5.0->ipywidgets>=7.6.5->pycaret) (21.2.0)\r\n",
      "Requirement already satisfied: cffi>=1.0.1 in /Users/sola/opt/anaconda3/lib/python3.9/site-packages (from argon2-cffi-bindings->argon2-cffi->notebook>=4.4.1->widgetsnbextension~=3.5.0->ipywidgets>=7.6.5->pycaret) (1.15.1)\r\n",
      "Requirement already satisfied: soupsieve>1.2 in /Users/sola/opt/anaconda3/lib/python3.9/site-packages (from beautifulsoup4->nbconvert>=5->notebook>=4.4.1->widgetsnbextension~=3.5.0->ipywidgets>=7.6.5->pycaret) (2.3.1)\r\n",
      "Requirement already satisfied: webencodings in /Users/sola/opt/anaconda3/lib/python3.9/site-packages (from bleach->nbconvert>=5->notebook>=4.4.1->widgetsnbextension~=3.5.0->ipywidgets>=7.6.5->pycaret) (0.5.1)\r\n",
      "Requirement already satisfied: pycparser in /Users/sola/opt/anaconda3/lib/python3.9/site-packages (from cffi>=1.0.1->argon2-cffi-bindings->argon2-cffi->notebook>=4.4.1->widgetsnbextension~=3.5.0->ipywidgets>=7.6.5->pycaret) (2.21)\r\n",
      "Building wheels for collected packages: plotly-resampler, pyod\r\n",
      "  Building wheel for plotly-resampler (pyproject.toml) ... \u001B[?25ldone\r\n",
      "\u001B[?25h  Created wheel for plotly-resampler: filename=plotly_resampler-0.8.4rc1-cp39-cp39-macosx_12_0_x86_64.whl size=51657 sha256=0aeac8cabc036007d88d4619ba5d1332a7da3eff5699f0ce0cfcba8ae37ee4ae\r\n",
      "  Stored in directory: /Users/sola/Library/Caches/pip/wheels/86/7b/c2/9bb757e94d5d5d7037b680c4455023740fcf287c6b20707a26\r\n",
      "  Building wheel for pyod (setup.py) ... \u001B[?25ldone\r\n",
      "\u001B[?25h  Created wheel for pyod: filename=pyod-1.0.7-py3-none-any.whl size=181085 sha256=a916565ad61951b607af1f9cb841233a5bd4701b83d4069823aed12844c22d6d\r\n",
      "  Stored in directory: /Users/sola/Library/Caches/pip/wheels/f4/1b/1a/a1d14cff28ea755d9c482bf64e2f349e1768504563856d7413\r\n",
      "Successfully built plotly-resampler pyod\r\n",
      "Installing collected packages: trace-updater, kaleido, dash-table, dash-html-components, dash-core-components, xxhash, schemdraw, retrying, orjson, joblib, importlib-metadata, deprecated, ansi2html, deprecation, yellowbrick, sktime, scikit-plot, imbalanced-learn, Flask-Cors, dash, pyod, pmdarima, jupyter-dash, category-encoders, tbats, plotly-resampler, pycaret\r\n",
      "  Attempting uninstall: joblib\r\n",
      "    Found existing installation: joblib 1.1.0\r\n",
      "    Uninstalling joblib-1.1.0:\r\n",
      "      Successfully uninstalled joblib-1.1.0\r\n",
      "  Attempting uninstall: importlib-metadata\r\n",
      "    Found existing installation: importlib-metadata 4.11.3\r\n",
      "    Uninstalling importlib-metadata-4.11.3:\r\n",
      "      Successfully uninstalled importlib-metadata-4.11.3\r\n",
      "Successfully installed Flask-Cors-3.0.10 ansi2html-1.9.0rc1 category-encoders-2.6.0 dash-2.8.1 dash-core-components-2.0.0 dash-html-components-2.0.0 dash-table-5.0.0 deprecated-1.2.13 deprecation-2.1.0 imbalanced-learn-0.10.1 importlib-metadata-6.0.0 joblib-1.2.0 jupyter-dash-0.4.2 kaleido-0.2.1 orjson-3.8.6 plotly-resampler-0.8.4rc1 pmdarima-2.0.2 pycaret-3.0.0rc9 pyod-1.0.7 retrying-1.3.4 schemdraw-0.15 scikit-plot-0.3.7 sktime-0.16.0 tbats-1.1.2 trace-updater-0.0.9 xxhash-3.2.0 yellowbrick-1.5\r\n",
      "Note: you may need to restart the kernel to use updated packages.\n"
     ]
    }
   ],
   "source": [
    "pip install -U --pre pycaret"
   ],
   "metadata": {
    "collapsed": false
   }
  },
  {
   "cell_type": "code",
   "execution_count": 3,
   "metadata": {
    "collapsed": true
   },
   "outputs": [
    {
     "name": "stdout",
     "output_type": "stream",
     "text": [
      "zsh:1: no matches found: pycaret[full]\r\n",
      "Note: you may need to restart the kernel to use updated packages.\n"
     ]
    }
   ],
   "source": [
    "# pip install pycaret[full]"
   ]
  },
  {
   "cell_type": "code",
   "execution_count": 5,
   "outputs": [],
   "source": [
    "from pycaret.classification import *\n",
    "import pandas as pd\n",
    "import os\n",
    "import numpy as np\n",
    "\n",
    "from sklearn.model_selection import train_test_split\n",
    "from sklearn.linear_model import RidgeClassifier\n",
    "import lightgbm as lgb\n",
    "\n",
    "from sklearn.ensemble import HistGradientBoostingClassifier\n",
    "from sklearn.model_selection import cross_validate\n",
    "from sklearn.inspection import permutation_importance\n",
    "\n",
    "from sklearn.metrics import confusion_matrix\n",
    "from sklearn.metrics import accuracy_score"
   ],
   "metadata": {
    "collapsed": false
   }
  },
  {
   "cell_type": "code",
   "execution_count": 13,
   "outputs": [],
   "source": [
    "data_path = '/Users/sola/Downloads/open/'\n",
    "train = pd.read_csv(data_path + 'train.csv')\n",
    "test = pd.read_csv(data_path + 'test.csv')\n",
    "submission = pd.read_csv(data_path + 'sample_submission.csv')\n",
    "train_x = train.drop(['TIMESTAMP','PRODUCT_ID'], axis=1)\n",
    "train_y = train['Y_Class']\n",
    "train_x = train_x.fillna(0)\n"
   ],
   "metadata": {
    "collapsed": false
   }
  },
  {
   "cell_type": "code",
   "execution_count": 14,
   "outputs": [
    {
     "name": "stderr",
     "output_type": "stream",
     "text": [
      "[LightGBM] [Fatal] GPU Tree Learner was not enabled in this build.\n",
      "Please recompile with CMake option -DUSE_GPU=1\n",
      "[LightGBM] [Fatal] CUDA Tree Learner was not enabled in this build.\n",
      "Please recompile with CMake option -DUSE_CUDA=1\n",
      "[LightGBM] [Fatal] GPU Tree Learner was not enabled in this build.\n",
      "Please recompile with CMake option -DUSE_GPU=1\n",
      "[LightGBM] [Fatal] CUDA Tree Learner was not enabled in this build.\n",
      "Please recompile with CMake option -DUSE_CUDA=1\n",
      "[LightGBM] [Fatal] GPU Tree Learner was not enabled in this build.\n",
      "Please recompile with CMake option -DUSE_GPU=1\n",
      "[LightGBM] [Fatal] CUDA Tree Learner was not enabled in this build.\n",
      "Please recompile with CMake option -DUSE_CUDA=1\n",
      "[LightGBM] [Fatal] GPU Tree Learner was not enabled in this build.\n",
      "Please recompile with CMake option -DUSE_GPU=1\n",
      "[LightGBM] [Fatal] CUDA Tree Learner was not enabled in this build.\n",
      "Please recompile with CMake option -DUSE_CUDA=1\n",
      "[LightGBM] [Fatal] GPU Tree Learner was not enabled in this build.\n",
      "Please recompile with CMake option -DUSE_GPU=1\n",
      "[LightGBM] [Fatal] CUDA Tree Learner was not enabled in this build.\n",
      "Please recompile with CMake option -DUSE_CUDA=1\n",
      "[LightGBM] [Fatal] GPU Tree Learner was not enabled in this build.\n",
      "Please recompile with CMake option -DUSE_GPU=1\n",
      "[LightGBM] [Fatal] CUDA Tree Learner was not enabled in this build.\n",
      "Please recompile with CMake option -DUSE_CUDA=1\n"
     ]
    },
    {
     "data": {
      "text/plain": "<IPython.core.display.HTML object>",
      "text/html": ""
     },
     "metadata": {},
     "output_type": "display_data"
    },
    {
     "name": "stderr",
     "output_type": "stream",
     "text": [
      "[LightGBM] [Fatal] GPU Tree Learner was not enabled in this build.\n",
      "Please recompile with CMake option -DUSE_GPU=1\n",
      "[LightGBM] [Fatal] CUDA Tree Learner was not enabled in this build.\n",
      "Please recompile with CMake option -DUSE_CUDA=1\n",
      "[LightGBM] [Fatal] GPU Tree Learner was not enabled in this build.\n",
      "Please recompile with CMake option -DUSE_GPU=1\n",
      "[LightGBM] [Fatal] CUDA Tree Learner was not enabled in this build.\n",
      "Please recompile with CMake option -DUSE_CUDA=1\n"
     ]
    }
   ],
   "source": [
    "clf = setup(data = train_x, target = train_y, train_size = 0.9,  use_gpu = True, data_split_shuffle=True, normalize = True, session_id=42)"
   ],
   "metadata": {
    "collapsed": false
   }
  },
  {
   "cell_type": "code",
   "execution_count": 17,
   "outputs": [
    {
     "name": "stderr",
     "output_type": "stream",
     "text": [
      "[LightGBM] [Fatal] GPU Tree Learner was not enabled in this build.\n",
      "Please recompile with CMake option -DUSE_GPU=1\n",
      "[LightGBM] [Fatal] CUDA Tree Learner was not enabled in this build.\n",
      "Please recompile with CMake option -DUSE_CUDA=1\n",
      "[LightGBM] [Fatal] GPU Tree Learner was not enabled in this build.\n",
      "Please recompile with CMake option -DUSE_GPU=1\n",
      "[LightGBM] [Fatal] CUDA Tree Learner was not enabled in this build.\n",
      "Please recompile with CMake option -DUSE_CUDA=1\n"
     ]
    },
    {
     "data": {
      "text/plain": "                                     Name  \\\nID                                          \nlr                    Logistic Regression   \nknn                K Neighbors Classifier   \nnb                            Naive Bayes   \ndt               Decision Tree Classifier   \nsvm                   SVM - Linear Kernel   \nrbfsvm                SVM - Radial Kernel   \ngpc           Gaussian Process Classifier   \nmlp                        MLP Classifier   \nridge                    Ridge Classifier   \nrf               Random Forest Classifier   \nqda       Quadratic Discriminant Analysis   \nada                  Ada Boost Classifier   \ngbc          Gradient Boosting Classifier   \nlda          Linear Discriminant Analysis   \net                 Extra Trees Classifier   \nlightgbm  Light Gradient Boosting Machine   \ndummy                    Dummy Classifier   \n\n                                                  Reference  Turbo  \nID                                                                  \nlr        sklearn.linear_model._logistic.LogisticRegression   True  \nknn       sklearn.neighbors._classification.KNeighborsCl...   True  \nnb                           sklearn.naive_bayes.GaussianNB   True  \ndt             sklearn.tree._classes.DecisionTreeClassifier   True  \nsvm       sklearn.linear_model._stochastic_gradient.SGDC...   True  \nrbfsvm                             sklearn.svm._classes.SVC  False  \ngpc       sklearn.gaussian_process._gpc.GaussianProcessC...  False  \nmlp       sklearn.neural_network._multilayer_perceptron....  False  \nridge           sklearn.linear_model._ridge.RidgeClassifier   True  \nrf          sklearn.ensemble._forest.RandomForestClassifier   True  \nqda       sklearn.discriminant_analysis.QuadraticDiscrim...   True  \nada       sklearn.ensemble._weight_boosting.AdaBoostClas...   True  \ngbc         sklearn.ensemble._gb.GradientBoostingClassifier   True  \nlda       sklearn.discriminant_analysis.LinearDiscrimina...   True  \net            sklearn.ensemble._forest.ExtraTreesClassifier   True  \nlightgbm                    lightgbm.sklearn.LGBMClassifier   True  \ndummy                         sklearn.dummy.DummyClassifier   True  ",
      "text/html": "<div>\n<style scoped>\n    .dataframe tbody tr th:only-of-type {\n        vertical-align: middle;\n    }\n\n    .dataframe tbody tr th {\n        vertical-align: top;\n    }\n\n    .dataframe thead th {\n        text-align: right;\n    }\n</style>\n<table border=\"1\" class=\"dataframe\">\n  <thead>\n    <tr style=\"text-align: right;\">\n      <th></th>\n      <th>Name</th>\n      <th>Reference</th>\n      <th>Turbo</th>\n    </tr>\n    <tr>\n      <th>ID</th>\n      <th></th>\n      <th></th>\n      <th></th>\n    </tr>\n  </thead>\n  <tbody>\n    <tr>\n      <th>lr</th>\n      <td>Logistic Regression</td>\n      <td>sklearn.linear_model._logistic.LogisticRegression</td>\n      <td>True</td>\n    </tr>\n    <tr>\n      <th>knn</th>\n      <td>K Neighbors Classifier</td>\n      <td>sklearn.neighbors._classification.KNeighborsCl...</td>\n      <td>True</td>\n    </tr>\n    <tr>\n      <th>nb</th>\n      <td>Naive Bayes</td>\n      <td>sklearn.naive_bayes.GaussianNB</td>\n      <td>True</td>\n    </tr>\n    <tr>\n      <th>dt</th>\n      <td>Decision Tree Classifier</td>\n      <td>sklearn.tree._classes.DecisionTreeClassifier</td>\n      <td>True</td>\n    </tr>\n    <tr>\n      <th>svm</th>\n      <td>SVM - Linear Kernel</td>\n      <td>sklearn.linear_model._stochastic_gradient.SGDC...</td>\n      <td>True</td>\n    </tr>\n    <tr>\n      <th>rbfsvm</th>\n      <td>SVM - Radial Kernel</td>\n      <td>sklearn.svm._classes.SVC</td>\n      <td>False</td>\n    </tr>\n    <tr>\n      <th>gpc</th>\n      <td>Gaussian Process Classifier</td>\n      <td>sklearn.gaussian_process._gpc.GaussianProcessC...</td>\n      <td>False</td>\n    </tr>\n    <tr>\n      <th>mlp</th>\n      <td>MLP Classifier</td>\n      <td>sklearn.neural_network._multilayer_perceptron....</td>\n      <td>False</td>\n    </tr>\n    <tr>\n      <th>ridge</th>\n      <td>Ridge Classifier</td>\n      <td>sklearn.linear_model._ridge.RidgeClassifier</td>\n      <td>True</td>\n    </tr>\n    <tr>\n      <th>rf</th>\n      <td>Random Forest Classifier</td>\n      <td>sklearn.ensemble._forest.RandomForestClassifier</td>\n      <td>True</td>\n    </tr>\n    <tr>\n      <th>qda</th>\n      <td>Quadratic Discriminant Analysis</td>\n      <td>sklearn.discriminant_analysis.QuadraticDiscrim...</td>\n      <td>True</td>\n    </tr>\n    <tr>\n      <th>ada</th>\n      <td>Ada Boost Classifier</td>\n      <td>sklearn.ensemble._weight_boosting.AdaBoostClas...</td>\n      <td>True</td>\n    </tr>\n    <tr>\n      <th>gbc</th>\n      <td>Gradient Boosting Classifier</td>\n      <td>sklearn.ensemble._gb.GradientBoostingClassifier</td>\n      <td>True</td>\n    </tr>\n    <tr>\n      <th>lda</th>\n      <td>Linear Discriminant Analysis</td>\n      <td>sklearn.discriminant_analysis.LinearDiscrimina...</td>\n      <td>True</td>\n    </tr>\n    <tr>\n      <th>et</th>\n      <td>Extra Trees Classifier</td>\n      <td>sklearn.ensemble._forest.ExtraTreesClassifier</td>\n      <td>True</td>\n    </tr>\n    <tr>\n      <th>lightgbm</th>\n      <td>Light Gradient Boosting Machine</td>\n      <td>lightgbm.sklearn.LGBMClassifier</td>\n      <td>True</td>\n    </tr>\n    <tr>\n      <th>dummy</th>\n      <td>Dummy Classifier</td>\n      <td>sklearn.dummy.DummyClassifier</td>\n      <td>True</td>\n    </tr>\n  </tbody>\n</table>\n</div>"
     },
     "execution_count": 17,
     "metadata": {},
     "output_type": "execute_result"
    }
   ],
   "source": [
    "models()"
   ],
   "metadata": {
    "collapsed": false
   }
  },
  {
   "cell_type": "code",
   "execution_count": 20,
   "outputs": [
    {
     "data": {
      "text/plain": "                                                                    \n                                                                    \nInitiated  . . . . . . . . . . . . . . . . . .              15:31:30\nStatus     . . . . . . . . . . . . . . . . . .  Loading Dependencies\nEstimator  . . . . . . . . . . . . . . . . . .     Compiling Library",
      "text/html": "<div>\n<style scoped>\n    .dataframe tbody tr th:only-of-type {\n        vertical-align: middle;\n    }\n\n    .dataframe tbody tr th {\n        vertical-align: top;\n    }\n\n    .dataframe thead th {\n        text-align: right;\n    }\n</style>\n<table border=\"1\" class=\"dataframe\">\n  <thead>\n    <tr style=\"text-align: right;\">\n      <th></th>\n      <th></th>\n      <th></th>\n    </tr>\n    <tr>\n      <th></th>\n      <th></th>\n      <th></th>\n    </tr>\n  </thead>\n  <tbody>\n    <tr>\n      <th>Initiated</th>\n      <td>. . . . . . . . . . . . . . . . . .</td>\n      <td>15:31:30</td>\n    </tr>\n    <tr>\n      <th>Status</th>\n      <td>. . . . . . . . . . . . . . . . . .</td>\n      <td>Loading Dependencies</td>\n    </tr>\n    <tr>\n      <th>Estimator</th>\n      <td>. . . . . . . . . . . . . . . . . .</td>\n      <td>Compiling Library</td>\n    </tr>\n  </tbody>\n</table>\n</div>"
     },
     "metadata": {},
     "output_type": "display_data"
    },
    {
     "data": {
      "text/plain": "<IPython.core.display.HTML object>",
      "text/html": ""
     },
     "metadata": {},
     "output_type": "display_data"
    },
    {
     "data": {
      "text/plain": "Processing:   0%|          | 0/65 [00:00<?, ?it/s]",
      "application/vnd.jupyter.widget-view+json": {
       "version_major": 2,
       "version_minor": 0,
       "model_id": "36792bc4d15748c48b29e1769a0a7e1b"
      }
     },
     "metadata": {},
     "output_type": "display_data"
    },
    {
     "name": "stdout",
     "output_type": "stream",
     "text": [
      "[DecisionTreeClassifier(ccp_alpha=0.0, class_weight=None, criterion='gini',\n",
      "                       max_depth=None, max_features=None, max_leaf_nodes=None,\n",
      "                       min_impurity_decrease=0.0, min_samples_leaf=1,\n",
      "                       min_samples_split=2, min_weight_fraction_leaf=0.0,\n",
      "                       random_state=42, splitter='best'), LinearDiscriminantAnalysis(covariance_estimator=None, n_components=None,\n",
      "                           priors=None, shrinkage=None, solver='svd',\n",
      "                           store_covariance=False, tol=0.0001), LGBMClassifier(boosting_type='gbdt', class_weight=None, colsample_bytree=1.0,\n",
      "               importance_type='split', learning_rate=0.1, max_depth=-1,\n",
      "               min_child_samples=20, min_child_weight=0.001, min_split_gain=0.0,\n",
      "               n_estimators=100, n_jobs=-1, num_leaves=31, objective=None,\n",
      "               random_state=42, reg_alpha=0.0, reg_lambda=0.0, silent=True,\n",
      "               subsample=1.0, subsample_for_bin=200000, subsample_freq=0), AdaBoostClassifier(algorithm='SAMME.R', base_estimator=None, learning_rate=1.0,\n",
      "                   n_estimators=50, random_state=42), GradientBoostingClassifier(ccp_alpha=0.0, criterion='friedman_mse', init=None,\n",
      "                           learning_rate=0.1, loss='deviance', max_depth=3,\n",
      "                           max_features=None, max_leaf_nodes=None,\n",
      "                           min_impurity_decrease=0.0, min_samples_leaf=1,\n",
      "                           min_samples_split=2, min_weight_fraction_leaf=0.0,\n",
      "                           n_estimators=100, n_iter_no_change=None,\n",
      "                           random_state=42, subsample=1.0, tol=0.0001,\n",
      "                           validation_fraction=0.1, verbose=0,\n",
      "                           warm_start=False)]\n"
     ]
    },
    {
     "ename": "TypeError",
     "evalue": "list indices must be integers or slices, not str",
     "output_type": "error",
     "traceback": [
      "\u001B[0;31m---------------------------------------------------------------------------\u001B[0m",
      "\u001B[0;31mTypeError\u001B[0m                                 Traceback (most recent call last)",
      "\u001B[0;32m/var/folders/js/792bsrvx24lcg4nrdgy7k5br0000gn/T/ipykernel_2953/959304013.py\u001B[0m in \u001B[0;36m<module>\u001B[0;34m\u001B[0m\n\u001B[1;32m      1\u001B[0m \u001B[0mbest_5\u001B[0m \u001B[0;34m=\u001B[0m \u001B[0mcompare_models\u001B[0m\u001B[0;34m(\u001B[0m\u001B[0msort\u001B[0m \u001B[0;34m=\u001B[0m \u001B[0;34m'Accuracy'\u001B[0m\u001B[0;34m,\u001B[0m \u001B[0mn_select\u001B[0m \u001B[0;34m=\u001B[0m \u001B[0;36m5\u001B[0m\u001B[0;34m)\u001B[0m\u001B[0;34m\u001B[0m\u001B[0;34m\u001B[0m\u001B[0m\n\u001B[1;32m      2\u001B[0m \u001B[0mprint\u001B[0m\u001B[0;34m(\u001B[0m\u001B[0mbest_5\u001B[0m\u001B[0;34m)\u001B[0m\u001B[0;34m\u001B[0m\u001B[0;34m\u001B[0m\u001B[0m\n\u001B[0;32m----> 3\u001B[0;31m \u001B[0mprint\u001B[0m\u001B[0;34m(\u001B[0m\u001B[0mbest_5\u001B[0m\u001B[0;34m[\u001B[0m\u001B[0;34m'Accuracy'\u001B[0m\u001B[0;34m]\u001B[0m\u001B[0;34m)\u001B[0m\u001B[0;34m\u001B[0m\u001B[0;34m\u001B[0m\u001B[0m\n\u001B[0m",
      "\u001B[0;31mTypeError\u001B[0m: list indices must be integers or slices, not str"
     ]
    }
   ],
   "source": [
    "best_5 = compare_models(sort = 'Accuracy', n_select = 5)\n",
    "print(best_5)\n",
    "print(best_5['Accuracy'])"
   ],
   "metadata": {
    "collapsed": false
   }
  },
  {
   "cell_type": "code",
   "execution_count": 21,
   "outputs": [
    {
     "data": {
      "text/plain": "                                                                    \n                                                                    \nInitiated  . . . . . . . . . . . . . . . . . .              16:01:22\nStatus     . . . . . . . . . . . . . . . . . .  Loading Dependencies\nEstimator  . . . . . . . . . . . . . . . . . .     Compiling Library",
      "text/html": "<div>\n<style scoped>\n    .dataframe tbody tr th:only-of-type {\n        vertical-align: middle;\n    }\n\n    .dataframe tbody tr th {\n        vertical-align: top;\n    }\n\n    .dataframe thead th {\n        text-align: right;\n    }\n</style>\n<table border=\"1\" class=\"dataframe\">\n  <thead>\n    <tr style=\"text-align: right;\">\n      <th></th>\n      <th></th>\n      <th></th>\n    </tr>\n    <tr>\n      <th></th>\n      <th></th>\n      <th></th>\n    </tr>\n  </thead>\n  <tbody>\n    <tr>\n      <th>Initiated</th>\n      <td>. . . . . . . . . . . . . . . . . .</td>\n      <td>16:01:22</td>\n    </tr>\n    <tr>\n      <th>Status</th>\n      <td>. . . . . . . . . . . . . . . . . .</td>\n      <td>Loading Dependencies</td>\n    </tr>\n    <tr>\n      <th>Estimator</th>\n      <td>. . . . . . . . . . . . . . . . . .</td>\n      <td>Compiling Library</td>\n    </tr>\n  </tbody>\n</table>\n</div>"
     },
     "metadata": {},
     "output_type": "display_data"
    },
    {
     "data": {
      "text/plain": "<IPython.core.display.HTML object>",
      "text/html": ""
     },
     "metadata": {},
     "output_type": "display_data"
    },
    {
     "data": {
      "text/plain": "Processing:   0%|          | 0/6 [00:00<?, ?it/s]",
      "application/vnd.jupyter.widget-view+json": {
       "version_major": 2,
       "version_minor": 0,
       "model_id": "eaed497b8bdd4db688bf30da0ad6ac81"
      }
     },
     "metadata": {},
     "output_type": "display_data"
    }
   ],
   "source": [
    "blended = blend_models(estimator_list = best_5,\n",
    "                       fold = 10,\n",
    "                       method = 'soft',\n",
    "                       optimize='Accuracy',\n",
    "                       )"
   ],
   "metadata": {
    "collapsed": false
   }
  },
  {
   "cell_type": "code",
   "execution_count": 1,
   "outputs": [
    {
     "ename": "NameError",
     "evalue": "name 'finalize_model' is not defined",
     "output_type": "error",
     "traceback": [
      "\u001B[0;31m---------------------------------------------------------------------------\u001B[0m",
      "\u001B[0;31mNameError\u001B[0m                                 Traceback (most recent call last)",
      "\u001B[0;32m/var/folders/js/792bsrvx24lcg4nrdgy7k5br0000gn/T/ipykernel_15150/778136273.py\u001B[0m in \u001B[0;36m<module>\u001B[0;34m\u001B[0m\n\u001B[0;32m----> 1\u001B[0;31m \u001B[0mfinal_model\u001B[0m \u001B[0;34m=\u001B[0m \u001B[0mfinalize_model\u001B[0m\u001B[0;34m(\u001B[0m\u001B[0mblended\u001B[0m\u001B[0;34m)\u001B[0m\u001B[0;34m\u001B[0m\u001B[0;34m\u001B[0m\u001B[0m\n\u001B[0m",
      "\u001B[0;31mNameError\u001B[0m: name 'finalize_model' is not defined"
     ]
    }
   ],
   "source": [
    "final_model = finalize_model(blended)"
   ],
   "metadata": {
    "collapsed": false
   }
  },
  {
   "cell_type": "code",
   "execution_count": null,
   "outputs": [],
   "source": [
    "test_x = test.drop(['TIMESTAMP','PRODUCT_ID'], axis=1)\n",
    "predictions = predict_model(final_model, data = pd.DataFrame(test_x))"
   ],
   "metadata": {
    "collapsed": false
   }
  },
  {
   "cell_type": "code",
   "execution_count": null,
   "outputs": [],
   "source": [
    "predictions[['Score','Label']]"
   ],
   "metadata": {
    "collapsed": false
   }
  }
 ],
 "metadata": {
  "kernelspec": {
   "display_name": "Python 3",
   "language": "python",
   "name": "python3"
  },
  "language_info": {
   "codemirror_mode": {
    "name": "ipython",
    "version": 2
   },
   "file_extension": ".py",
   "mimetype": "text/x-python",
   "name": "python",
   "nbconvert_exporter": "python",
   "pygments_lexer": "ipython2",
   "version": "2.7.6"
  }
 },
 "nbformat": 4,
 "nbformat_minor": 0
}
